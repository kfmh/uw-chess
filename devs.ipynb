{
 "cells": [
  {
   "cell_type": "code",
   "execution_count": 6,
   "metadata": {},
   "outputs": [],
   "source": [
    "from UW_ChessV1 import UW_Chess\n",
    "game = UW_Chess()\n",
    "board = game.board\n"
   ]
  },
  {
   "cell_type": "code",
   "execution_count": 7,
   "metadata": {},
   "outputs": [],
   "source": [
    "def clean_up(word):\n",
    "    remove_chars = [\"'\", \".\", \",\"]\n",
    "    clean_word = ''.join([char for char in word if char not in remove_chars])\n",
    "    return clean_word"
   ]
  },
  {
   "cell_type": "code",
   "execution_count": 9,
   "metadata": {},
   "outputs": [
    {
     "ename": "NameError",
     "evalue": "name 'stt' is not defined",
     "output_type": "error",
     "traceback": [
      "\u001b[0;31m---------------------------------------------------------------------------\u001b[0m",
      "\u001b[0;31mNameError\u001b[0m                                 Traceback (most recent call last)",
      "\u001b[1;32m/Users/undr/Documents/GitHub/uw-chess/devs.ipynb Cell 3\u001b[0m line \u001b[0;36m2\n\u001b[1;32m      <a href='vscode-notebook-cell:/Users/undr/Documents/GitHub/uw-chess/devs.ipynb#W5sZmlsZQ%3D%3D?line=0'>1</a>\u001b[0m \u001b[39mimport\u001b[39;00m \u001b[39mre\u001b[39;00m\n\u001b[0;32m----> <a href='vscode-notebook-cell:/Users/undr/Documents/GitHub/uw-chess/devs.ipynb#W5sZmlsZQ%3D%3D?line=1'>2</a>\u001b[0m stt_output \u001b[39m=\u001b[39m stt\u001b[39m.\u001b[39mspeech_to_text()\n\u001b[1;32m      <a href='vscode-notebook-cell:/Users/undr/Documents/GitHub/uw-chess/devs.ipynb#W5sZmlsZQ%3D%3D?line=2'>3</a>\u001b[0m \u001b[39mprint\u001b[39m(stt_output)\n\u001b[1;32m      <a href='vscode-notebook-cell:/Users/undr/Documents/GitHub/uw-chess/devs.ipynb#W5sZmlsZQ%3D%3D?line=4'>5</a>\u001b[0m words \u001b[39m=\u001b[39m re\u001b[39m.\u001b[39msplit(\u001b[39m'\u001b[39m\u001b[39m[,. ]\u001b[39m\u001b[39m'\u001b[39m, stt_output[\u001b[39m\"\u001b[39m\u001b[39mtext\u001b[39m\u001b[39m\"\u001b[39m])\n",
      "\u001b[0;31mNameError\u001b[0m: name 'stt' is not defined"
     ]
    }
   ],
   "source": [
    "import re\n",
    "stt_output = stt.speech_to_text()\n",
    "print(stt_output)\n",
    "\n",
    "words = re.split('[,. ]', stt_output[\"text\"])\n"
   ]
  },
  {
   "cell_type": "code",
   "execution_count": 10,
   "metadata": {},
   "outputs": [],
   "source": [
    "board_x = ['a','b','c','d','e','f','g','h']\n",
    "board_y = ['1','2','3','4','5','6','7','8']\n",
    "\n",
    "def STT_uci_str(words:list):\n",
    "    uci_move = ''\n",
    "    for i in words:\n",
    "        for l in list(i):\n",
    "            if l in board_y:\n",
    "                uci_move += i\n",
    "    return uci_move.lower()"
   ]
  },
  {
   "cell_type": "code",
   "execution_count": 48,
   "metadata": {},
   "outputs": [
    {
     "name": "stdout",
     "output_type": "stream",
     "text": [
      "E4\n"
     ]
    }
   ],
   "source": [
    "from UW_ChessV1 import UW_Chess, STT_move\n",
    "stt_move = STT_move()\n",
    "\n",
    "move = stt_move.uci_str(text[\"text\"])"
   ]
  },
  {
   "cell_type": "code",
   "execution_count": 4,
   "metadata": {},
   "outputs": [
    {
     "data": {
      "text/plain": [
       "'e4e2'"
      ]
     },
     "execution_count": 4,
     "metadata": {},
     "output_type": "execute_result"
    }
   ],
   "source": [
    "STT_uci_str(words)"
   ]
  },
  {
   "cell_type": "code",
   "execution_count": 6,
   "metadata": {},
   "outputs": [],
   "source": [
    "import os\n",
    "os.environ['API_USER'] = 'username'"
   ]
  },
  {
   "cell_type": "code",
   "execution_count": 22,
   "metadata": {},
   "outputs": [],
   "source": [
    "from fastspeech2 import TTS\n",
    "# from MicrosoftTTS import TTS\n",
    "tts = TTS()"
   ]
  },
  {
   "cell_type": "code",
   "execution_count": 30,
   "metadata": {},
   "outputs": [
    {
     "name": "stdout",
     "output_type": "stream",
     "text": [
      "c. 7. e. 5\n"
     ]
    }
   ],
   "source": [
    "engin_move = \"c7e5\"\n",
    "\n",
    "def format_response(engin_move):\n",
    "    inserts = '. '\n",
    "    positions = [1, 3, 5]\n",
    "    formatting = engin_move\n",
    "    for i, position in enumerate(sorted(positions)):\n",
    "        # Adjust position for the already inserted characters\n",
    "        adjusted_position = position + i\n",
    "        formatting = formatting[:adjusted_position] + inserts + formatting[adjusted_position:]\n",
    "    return formatting\n",
    "\n",
    "talk = format_response(engin_move)\n",
    "print(talk)\n",
    "\n",
    "tts.speech(talk)"
   ]
  }
 ],
 "metadata": {
  "kernelspec": {
   "display_name": ".env",
   "language": "python",
   "name": "python3"
  },
  "language_info": {
   "codemirror_mode": {
    "name": "ipython",
    "version": 3
   },
   "file_extension": ".py",
   "mimetype": "text/x-python",
   "name": "python",
   "nbconvert_exporter": "python",
   "pygments_lexer": "ipython3",
   "version": "3.11.3"
  }
 },
 "nbformat": 4,
 "nbformat_minor": 2
}
